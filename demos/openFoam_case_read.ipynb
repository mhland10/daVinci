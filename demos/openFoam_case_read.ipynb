{
 "cells": [
  {
   "cell_type": "markdown",
   "metadata": {},
   "source": [
    "# Introduction\n",
    "\n",
    "In this notebook, we will work through how to read an OpenFOAM case.\n"
   ]
  },
  {
   "cell_type": "code",
   "execution_count": 1,
   "metadata": {},
   "outputs": [],
   "source": [
    "import sys, os\n",
    "davinci_dir = r\"C:\\daVinci\"\n",
    "sys.path.append(davinci_dir)\n",
    "from daVinci import *\n",
    "\n",
    "import numpy as np\n"
   ]
  },
  {
   "cell_type": "markdown",
   "metadata": {},
   "source": [
    "Here is the directory of the case that we are using. We can chang this as needed very easily.\n"
   ]
  },
  {
   "cell_type": "code",
   "execution_count": 2,
   "metadata": {},
   "outputs": [],
   "source": [
    "case_dir = r\"M:\\Pinaki\\Keeton2025_1D_2x\"\n"
   ]
  },
  {
   "cell_type": "markdown",
   "metadata": {},
   "source": [
    "# Object Definition \n",
    "\n",
    "Now, let's define a rake of 1,000 points from one end to the other. The rake defines a set of points, preferably on a curve, that are sampled. This allows da Vinci to easily sample from a larger set of data.\n",
    "\n"
   ]
  },
  {
   "cell_type": "code",
   "execution_count": 3,
   "metadata": {},
   "outputs": [
    {
     "name": "stdout",
     "output_type": "stream",
     "text": [
      "File list:\t[]\n"
     ]
    }
   ],
   "source": [
    "N_pts = 1000\n",
    "\n",
    "rake_sample = rake(( np.linspace(0, 0.45, num=N_pts), np.zeros(N_pts), np.zeros(N_pts)), \"foam\", file_format=\"foam\" )\n"
   ]
  },
  {
   "cell_type": "markdown",
   "metadata": {},
   "source": [
    "# Reader\n",
    "\n",
    "Next, we can look at using the OpenFOAM reader to get the data.\n"
   ]
  },
  {
   "cell_type": "code",
   "execution_count": 4,
   "metadata": {},
   "outputs": [
    {
     "name": "stdout",
     "output_type": "stream",
     "text": [
      "The full filename is M:\\Pinaki\\Keeton2025_1D_2x\\foam.foam\n",
      "Number of cells: 14999\n",
      "Number of blocks in cell centers: 1\n",
      "Number of blocks in cell data: 1\n",
      "Current time step 1e-06 at index 0...\n",
      "Dropping dimension 1\n",
      "Current time step 2e-06 at index 1...\n",
      "Dropping dimension 1\n",
      "Current time step 3e-06 at index 2...\n",
      "Dropping dimension 1\n",
      "Current time step 4e-06 at index 3...\n",
      "Dropping dimension 1\n",
      "Current time step 5e-06 at index 4...\n",
      "Dropping dimension 1\n",
      "Current time step 6e-06 at index 5...\n",
      "Dropping dimension 1\n",
      "Current time step 7e-06 at index 6...\n",
      "Dropping dimension 1\n",
      "Current time step 8e-06 at index 7...\n",
      "Dropping dimension 1\n",
      "Current time step 9e-06 at index 8...\n",
      "Dropping dimension 1\n",
      "Current time step 1e-05 at index 9...\n",
      "Dropping dimension 1\n",
      "Current time step 1.1e-05 at index 10...\n",
      "Dropping dimension 1\n",
      "Current time step 1.2e-05 at index 11...\n",
      "Dropping dimension 1\n",
      "Current time step 1.3e-05 at index 12...\n",
      "Dropping dimension 1\n",
      "Current time step 1.4e-05 at index 13...\n",
      "Dropping dimension 1\n",
      "Current time step 1.5e-05 at index 14...\n",
      "Dropping dimension 1\n",
      "Current time step 1.6e-05 at index 15...\n",
      "Dropping dimension 1\n",
      "Current time step 1.7e-05 at index 16...\n",
      "Dropping dimension 1\n",
      "Current time step 1.8e-05 at index 17...\n",
      "Dropping dimension 1\n",
      "Current time step 1.9e-05 at index 18...\n",
      "Dropping dimension 1\n",
      "Current time step 2e-05 at index 19...\n",
      "Dropping dimension 1\n",
      "Current time step 2.1e-05 at index 20...\n",
      "Dropping dimension 1\n",
      "Current time step 2.2e-05 at index 21...\n",
      "Dropping dimension 1\n",
      "Current time step 2.3e-05 at index 22...\n",
      "Dropping dimension 1\n",
      "Current time step 2.4e-05 at index 23...\n",
      "Dropping dimension 1\n",
      "Current time step 2.5e-05 at index 24...\n",
      "Dropping dimension 1\n",
      "Current time step 2.6e-05 at index 25...\n",
      "Dropping dimension 1\n",
      "Current time step 2.7e-05 at index 26...\n",
      "Dropping dimension 1\n",
      "Current time step 2.8e-05 at index 27...\n",
      "Dropping dimension 1\n",
      "Current time step 2.9e-05 at index 28...\n",
      "Dropping dimension 1\n",
      "Current time step 3e-05 at index 29...\n",
      "Dropping dimension 1\n",
      "Current time step 3.1e-05 at index 30...\n",
      "Dropping dimension 1\n",
      "Current time step 3.2e-05 at index 31...\n",
      "Dropping dimension 1\n",
      "Current time step 3.3e-05 at index 32...\n",
      "Dropping dimension 1\n",
      "Current time step 3.4e-05 at index 33...\n",
      "Dropping dimension 1\n",
      "Current time step 3.5e-05 at index 34...\n",
      "Dropping dimension 1\n",
      "Current time step 3.6e-05 at index 35...\n",
      "Dropping dimension 1\n",
      "Current time step 3.7e-05 at index 36...\n",
      "Dropping dimension 1\n",
      "Current time step 3.8e-05 at index 37...\n",
      "Dropping dimension 1\n",
      "Current time step 3.9e-05 at index 38...\n",
      "Dropping dimension 1\n",
      "Current time step 4e-05 at index 39...\n",
      "Dropping dimension 1\n",
      "Current time step 4.1e-05 at index 40...\n",
      "Dropping dimension 1\n",
      "Current time step 4.2e-05 at index 41...\n",
      "Dropping dimension 1\n",
      "Current time step 4.3e-05 at index 42...\n",
      "Dropping dimension 1\n",
      "Current time step 4.4e-05 at index 43...\n",
      "Dropping dimension 1\n",
      "Current time step 4.5e-05 at index 44...\n",
      "Dropping dimension 1\n",
      "Current time step 4.6e-05 at index 45...\n",
      "Dropping dimension 1\n",
      "Current time step 4.7e-05 at index 46...\n",
      "Dropping dimension 1\n",
      "Current time step 4.8e-05 at index 47...\n",
      "Dropping dimension 1\n",
      "Current time step 4.9e-05 at index 48...\n",
      "Dropping dimension 1\n",
      "Current time step 5e-05 at index 49...\n",
      "Dropping dimension 1\n",
      "Current time step 5.1e-05 at index 50...\n",
      "Dropping dimension 1\n",
      "Current time step 5.2e-05 at index 51...\n",
      "Dropping dimension 1\n",
      "Current time step 5.3e-05 at index 52...\n",
      "Dropping dimension 1\n",
      "Current time step 5.4e-05 at index 53...\n",
      "Dropping dimension 1\n",
      "Current time step 5.5e-05 at index 54...\n",
      "Dropping dimension 1\n",
      "Current time step 5.6e-05 at index 55...\n",
      "Dropping dimension 1\n",
      "Current time step 5.7e-05 at index 56...\n",
      "Dropping dimension 1\n",
      "Current time step 5.8e-05 at index 57...\n",
      "Dropping dimension 1\n",
      "Current time step 5.9e-05 at index 58...\n",
      "Dropping dimension 1\n",
      "Current time step 6e-05 at index 59...\n",
      "Dropping dimension 1\n",
      "Current time step 6.1e-05 at index 60...\n",
      "Dropping dimension 1\n",
      "Current time step 6.2e-05 at index 61...\n",
      "Dropping dimension 1\n",
      "Current time step 6.3e-05 at index 62...\n",
      "Dropping dimension 1\n",
      "Current time step 6.4e-05 at index 63...\n",
      "Dropping dimension 1\n",
      "Current time step 6.5e-05 at index 64...\n",
      "Dropping dimension 1\n",
      "Current time step 6.6e-05 at index 65...\n",
      "Dropping dimension 1\n",
      "Current time step 6.7e-05 at index 66...\n",
      "Dropping dimension 1\n",
      "Current time step 6.8e-05 at index 67...\n",
      "Dropping dimension 1\n",
      "Current time step 6.9e-05 at index 68...\n",
      "Dropping dimension 1\n",
      "Current time step 7e-05 at index 69...\n",
      "Dropping dimension 1\n",
      "Current time step 7.1e-05 at index 70...\n",
      "Dropping dimension 1\n",
      "Current time step 7.2e-05 at index 71...\n",
      "Dropping dimension 1\n",
      "Current time step 7.3e-05 at index 72...\n",
      "Dropping dimension 1\n",
      "Current time step 7.4e-05 at index 73...\n",
      "Dropping dimension 1\n",
      "Current time step 7.5e-05 at index 74...\n",
      "Dropping dimension 1\n",
      "Current time step 7.6e-05 at index 75...\n",
      "Dropping dimension 1\n",
      "Current time step 7.7e-05 at index 76...\n",
      "Dropping dimension 1\n",
      "Current time step 7.8e-05 at index 77...\n",
      "Dropping dimension 1\n",
      "Current time step 7.9e-05 at index 78...\n",
      "Dropping dimension 1\n",
      "Current time step 8e-05 at index 79...\n",
      "Dropping dimension 1\n",
      "Current time step 8.1e-05 at index 80...\n",
      "Dropping dimension 1\n",
      "Current time step 8.2e-05 at index 81...\n",
      "Dropping dimension 1\n",
      "Current time step 8.3e-05 at index 82...\n",
      "Dropping dimension 1\n",
      "Current time step 8.4e-05 at index 83...\n",
      "Dropping dimension 1\n",
      "Current time step 8.5e-05 at index 84...\n",
      "Dropping dimension 1\n",
      "Current time step 8.6e-05 at index 85...\n",
      "Dropping dimension 1\n",
      "Current time step 8.7e-05 at index 86...\n",
      "Dropping dimension 1\n",
      "Current time step 8.8e-05 at index 87...\n",
      "Dropping dimension 1\n",
      "Current time step 8.9e-05 at index 88...\n",
      "Dropping dimension 1\n",
      "Current time step 9e-05 at index 89...\n",
      "Dropping dimension 1\n",
      "Current time step 9.1e-05 at index 90...\n",
      "Dropping dimension 1\n",
      "Current time step 9.2e-05 at index 91...\n",
      "Dropping dimension 1\n",
      "Current time step 9.3e-05 at index 92...\n",
      "Dropping dimension 1\n",
      "Current time step 9.4e-05 at index 93...\n",
      "Dropping dimension 1\n",
      "Current time step 9.5e-05 at index 94...\n",
      "Dropping dimension 1\n",
      "Current time step 9.6e-05 at index 95...\n",
      "Dropping dimension 1\n",
      "Current time step 9.7e-05 at index 96...\n",
      "Dropping dimension 1\n",
      "Current time step 9.8e-05 at index 97...\n",
      "Dropping dimension 1\n",
      "Current time step 9.9e-05 at index 98...\n",
      "Dropping dimension 1\n",
      "Current time step 0.0001 at index 99...\n",
      "Dropping dimension 1\n",
      "Current time step 0.000101 at index 100...\n",
      "Dropping dimension 1\n",
      "Current time step 0.000102 at index 101...\n",
      "Dropping dimension 1\n",
      "Current time step 0.000103 at index 102...\n",
      "Dropping dimension 1\n",
      "Current time step 0.000104 at index 103...\n",
      "Dropping dimension 1\n",
      "Current time step 0.000105 at index 104...\n",
      "Dropping dimension 1\n",
      "Current time step 0.000106 at index 105...\n",
      "Dropping dimension 1\n",
      "Current time step 0.000107 at index 106...\n",
      "Dropping dimension 1\n",
      "Current time step 0.000108 at index 107...\n",
      "Dropping dimension 1\n",
      "Current time step 0.000109 at index 108...\n",
      "Dropping dimension 1\n",
      "Current time step 0.00011 at index 109...\n",
      "Dropping dimension 1\n",
      "Current time step 0.000111 at index 110...\n",
      "Dropping dimension 1\n",
      "Current time step 0.000112 at index 111...\n",
      "Dropping dimension 1\n",
      "Current time step 0.000113 at index 112...\n",
      "Dropping dimension 1\n",
      "Current time step 0.000114 at index 113...\n",
      "Dropping dimension 1\n",
      "Current time step 0.000115 at index 114...\n",
      "Dropping dimension 1\n",
      "Current time step 0.000116 at index 115...\n",
      "Dropping dimension 1\n",
      "Current time step 0.000117 at index 116...\n",
      "Dropping dimension 1\n",
      "Current time step 0.000118 at index 117...\n",
      "Dropping dimension 1\n",
      "Current time step 0.000119 at index 118...\n",
      "Dropping dimension 1\n",
      "Current time step 0.00012 at index 119...\n",
      "Dropping dimension 1\n",
      "Current time step 0.000121 at index 120...\n",
      "Dropping dimension 1\n",
      "Current time step 0.000122 at index 121...\n",
      "Dropping dimension 1\n",
      "Current time step 0.000123 at index 122...\n",
      "Dropping dimension 1\n",
      "Current time step 0.000124 at index 123...\n",
      "Dropping dimension 1\n",
      "Current time step 0.000125 at index 124...\n",
      "Dropping dimension 1\n",
      "Current time step 0.000126 at index 125...\n",
      "Dropping dimension 1\n",
      "Current time step 0.000127 at index 126...\n",
      "Dropping dimension 1\n",
      "Current time step 0.000128 at index 127...\n",
      "Dropping dimension 1\n",
      "Current time step 0.000129 at index 128...\n",
      "Dropping dimension 1\n",
      "Current time step 0.00013 at index 129...\n",
      "Dropping dimension 1\n",
      "Current time step 0.000131 at index 130...\n",
      "Dropping dimension 1\n",
      "Current time step 0.000132 at index 131...\n",
      "Dropping dimension 1\n",
      "Current time step 0.000133 at index 132...\n",
      "Dropping dimension 1\n",
      "Current time step 0.000134 at index 133...\n",
      "Dropping dimension 1\n",
      "Current time step 0.000135 at index 134...\n",
      "Dropping dimension 1\n",
      "Current time step 0.000136 at index 135...\n",
      "Dropping dimension 1\n",
      "Current time step 0.000137 at index 136...\n",
      "Dropping dimension 1\n",
      "Current time step 0.000138 at index 137...\n",
      "Dropping dimension 1\n",
      "Current time step 0.000139 at index 138...\n",
      "Dropping dimension 1\n",
      "Current time step 0.00014 at index 139...\n",
      "Dropping dimension 1\n",
      "Current time step 0.000141 at index 140...\n",
      "Dropping dimension 1\n",
      "Current time step 0.000142 at index 141...\n",
      "Dropping dimension 1\n",
      "Current time step 0.000143 at index 142...\n",
      "Dropping dimension 1\n",
      "Current time step 0.000144 at index 143...\n",
      "Dropping dimension 1\n",
      "Current time step 0.000145 at index 144...\n",
      "Dropping dimension 1\n",
      "Current time step 0.000146 at index 145...\n",
      "Dropping dimension 1\n",
      "Current time step 0.000147 at index 146...\n",
      "Dropping dimension 1\n",
      "Current time step 0.000148 at index 147...\n",
      "Dropping dimension 1\n",
      "Current time step 0.000149 at index 148...\n",
      "Dropping dimension 1\n",
      "Current time step 0.00015 at index 149...\n",
      "Dropping dimension 1\n",
      "Current time step 0.000151 at index 150...\n",
      "Dropping dimension 1\n",
      "Current time step 0.000152 at index 151...\n",
      "Dropping dimension 1\n",
      "Current time step 0.000153 at index 152...\n",
      "Dropping dimension 1\n",
      "Current time step 0.000154 at index 153...\n",
      "Dropping dimension 1\n",
      "Current time step 0.000155 at index 154...\n",
      "Dropping dimension 1\n",
      "Current time step 0.000156 at index 155...\n",
      "Dropping dimension 1\n",
      "Current time step 0.000157 at index 156...\n",
      "Dropping dimension 1\n",
      "Current time step 0.000158 at index 157...\n",
      "Dropping dimension 1\n",
      "Current time step 0.000159 at index 158...\n",
      "Dropping dimension 1\n",
      "Current time step 0.00016 at index 159...\n",
      "Dropping dimension 1\n",
      "Current time step 0.000161 at index 160...\n",
      "Dropping dimension 1\n",
      "Current time step 0.000162 at index 161...\n",
      "Dropping dimension 1\n",
      "Current time step 0.000163 at index 162...\n",
      "Dropping dimension 1\n",
      "Current time step 0.000164 at index 163...\n",
      "Dropping dimension 1\n",
      "Current time step 0.000165 at index 164...\n",
      "Dropping dimension 1\n",
      "Current time step 0.000166 at index 165...\n",
      "Dropping dimension 1\n",
      "Current time step 0.000167 at index 166...\n",
      "Dropping dimension 1\n",
      "Current time step 0.000168 at index 167...\n",
      "Dropping dimension 1\n",
      "Current time step 0.000169 at index 168...\n",
      "Dropping dimension 1\n",
      "Current time step 0.00017 at index 169...\n",
      "Dropping dimension 1\n",
      "Current time step 0.000171 at index 170...\n",
      "Dropping dimension 1\n",
      "Current time step 0.000172 at index 171...\n",
      "Dropping dimension 1\n",
      "Current time step 0.000173 at index 172...\n",
      "Dropping dimension 1\n",
      "Current time step 0.000174 at index 173...\n",
      "Dropping dimension 1\n",
      "Current time step 0.000175 at index 174...\n",
      "Dropping dimension 1\n",
      "Current time step 0.000176 at index 175...\n",
      "Dropping dimension 1\n",
      "Current time step 0.000177 at index 176...\n",
      "Dropping dimension 1\n",
      "Current time step 0.000178 at index 177...\n",
      "Dropping dimension 1\n",
      "Current time step 0.000179 at index 178...\n",
      "Dropping dimension 1\n",
      "Current time step 0.00018 at index 179...\n",
      "Dropping dimension 1\n",
      "Current time step 0.000181 at index 180...\n",
      "Dropping dimension 1\n",
      "Current time step 0.000182 at index 181...\n",
      "Dropping dimension 1\n",
      "Current time step 0.000183 at index 182...\n",
      "Dropping dimension 1\n",
      "Current time step 0.000184 at index 183...\n",
      "Dropping dimension 1\n",
      "Current time step 0.000185 at index 184...\n",
      "Dropping dimension 1\n",
      "Current time step 0.000186 at index 185...\n",
      "Dropping dimension 1\n",
      "Current time step 0.000187 at index 186...\n",
      "Dropping dimension 1\n",
      "Current time step 0.000188 at index 187...\n",
      "Dropping dimension 1\n",
      "Current time step 0.000189 at index 188...\n",
      "Dropping dimension 1\n",
      "Current time step 0.00019 at index 189...\n",
      "Dropping dimension 1\n",
      "Current time step 0.000191 at index 190...\n",
      "Dropping dimension 1\n"
     ]
    }
   ],
   "source": [
    "rake_sample.foamCaseRead( case_dir, verbosity=1, coordinate_system=['x', 'y'] )\n"
   ]
  },
  {
   "cell_type": "markdown",
   "metadata": {},
   "source": [
    "What are the time steps in the case?\n"
   ]
  },
  {
   "cell_type": "code",
   "execution_count": 5,
   "metadata": {},
   "outputs": [
    {
     "name": "stdout",
     "output_type": "stream",
     "text": [
      "There are 191 time steps\n"
     ]
    }
   ],
   "source": [
    "print(f\"There are {len(rake_sample.time_steps)} time steps\")\n"
   ]
  },
  {
   "cell_type": "code",
   "execution_count": 6,
   "metadata": {},
   "outputs": [
    {
     "data": {
      "text/plain": [
       "(25, 14999)"
      ]
     },
     "execution_count": 6,
     "metadata": {},
     "output_type": "execute_result"
    }
   ],
   "source": [
    "rake_sample.data_matrix.shape\n"
   ]
  },
  {
   "cell_type": "code",
   "execution_count": 7,
   "metadata": {},
   "outputs": [
    {
     "data": {
      "text/plain": [
       "dict_keys(['AR', 'H', 'H2', 'H2O', 'H2O2', 'HNO', 'HO2', 'N', 'N2', 'N2O', 'NH', 'NH2', 'NH3', 'NNH', 'NO', 'NO2', 'O', 'O2', 'OH', 'T', 'mag(U)', 'p', 'rho', 'U:x', 'U:y'])"
      ]
     },
     "execution_count": 7,
     "metadata": {},
     "output_type": "execute_result"
    }
   ],
   "source": [
    "rake_sample.data_dict.keys()\n"
   ]
  },
  {
   "cell_type": "code",
   "execution_count": 8,
   "metadata": {},
   "outputs": [
    {
     "name": "stdout",
     "output_type": "stream",
     "text": [
      "Number of cells: 14999\n",
      "Available arrays: ['AR', 'H', 'H2', 'H2O', 'H2O2', 'HNO', 'HO2', 'mag(U)', 'N', 'N2', 'N2O', 'NH', 'NH2', 'NH3', 'NNH', 'NO', 'NO2', 'O', 'O2', 'OH', 'p', 'rho', 'T', 'U']\n"
     ]
    }
   ],
   "source": [
    "print(\"Number of cells:\", rake_sample.foam.GetDataInformation().GetNumberOfCells())\n",
    "print(\"Available arrays:\", [rake_sample.foam.PointData[i].Name for i in range(rake_sample.foam.PointData.GetNumberOfArrays())])\n"
   ]
  },
  {
   "cell_type": "code",
   "execution_count": 9,
   "metadata": {},
   "outputs": [
    {
     "data": {
      "text/plain": [
       "array([[0.        , 0.        ],\n",
       "       [0.00045045, 0.        ],\n",
       "       [0.0009009 , 0.        ],\n",
       "       ...,\n",
       "       [0.4490991 , 0.        ],\n",
       "       [0.44954955, 0.        ],\n",
       "       [0.45      , 0.        ]])"
      ]
     },
     "execution_count": 9,
     "metadata": {},
     "output_type": "execute_result"
    }
   ],
   "source": [
    "rake_sample.points[:,:2]\n"
   ]
  },
  {
   "cell_type": "code",
   "execution_count": 10,
   "metadata": {},
   "outputs": [
    {
     "data": {
      "text/plain": [
       "array([[1.50010001e-05, 0.00000000e+00],\n",
       "       [4.50030002e-05, 0.00000000e+00],\n",
       "       [7.50049985e-05, 0.00000000e+00],\n",
       "       ...,\n",
       "       [4.49925005e-01, 0.00000000e+00],\n",
       "       [4.49955001e-01, 0.00000000e+00],\n",
       "       [4.49984998e-01, 0.00000000e+00]])"
      ]
     },
     "execution_count": 10,
     "metadata": {},
     "output_type": "execute_result"
    }
   ],
   "source": [
    "rake_sample.cell_coords[:,:2]\n"
   ]
  },
  {
   "cell_type": "code",
   "execution_count": 11,
   "metadata": {},
   "outputs": [
    {
     "data": {
      "text/plain": [
       "array([[-8.98023660e-04,  2.45519914e-07,  1.25728548e-08, ...,\n",
       "        -9.23871994e-06, -3.18884850e-06, -1.39325857e-06],\n",
       "       [-1.70362291e-03,  2.88753654e-07,  1.55050657e-07, ...,\n",
       "         2.04667449e-05, -1.47335231e-06,  8.64081085e-06],\n",
       "       [-2.43697531e-03,  5.80467258e-07,  2.85963324e-07, ...,\n",
       "        -7.79717448e-06,  1.64467383e-05,  5.46128431e-05],\n",
       "       ...,\n",
       "       [ 3.63511264e+02,  3.63622513e+02,  3.63734772e+02, ...,\n",
       "         2.10066355e-06,  3.20816616e-06, -4.51903754e-04],\n",
       "       [ 3.63587127e+02,  3.63701501e+02,  3.63808633e+02, ...,\n",
       "        -1.32837454e-06,  1.06561370e-05, -4.67686098e-04],\n",
       "       [ 3.63662868e+02,  3.63772682e+02,  3.63866244e+02, ...,\n",
       "        -3.70136689e-06,  7.90201796e-06, -4.85707825e-04]])"
      ]
     },
     "execution_count": 11,
     "metadata": {},
     "output_type": "execute_result"
    }
   ],
   "source": [
    "rake_sample.data[\"U:x\"]\n"
   ]
  },
  {
   "cell_type": "code",
   "execution_count": null,
   "metadata": {},
   "outputs": [],
   "source": []
  }
 ],
 "metadata": {
  "kernelspec": {
   "display_name": "Python 3",
   "language": "python",
   "name": "python3"
  },
  "language_info": {
   "codemirror_mode": {
    "name": "ipython",
    "version": 3
   },
   "file_extension": ".py",
   "mimetype": "text/x-python",
   "name": "python",
   "nbconvert_exporter": "python",
   "pygments_lexer": "ipython3",
   "version": "3.10.16"
  }
 },
 "nbformat": 4,
 "nbformat_minor": 2
}
